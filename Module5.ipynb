{
  "nbformat": 4,
  "nbformat_minor": 0,
  "metadata": {
    "colab": {
      "provenance": []
    },
    "kernelspec": {
      "name": "python3",
      "display_name": "Python 3"
    },
    "language_info": {
      "name": "python"
    }
  },
  "cells": [
    {
      "cell_type": "markdown",
      "source": [
        "MODULE 5"
      ],
      "metadata": {
        "id": "wtloEXPar7U7"
      }
    },
    {
      "cell_type": "markdown",
      "source": [
        "1. What is Object-Oriented Programming (OOP)?\n",
        "  - Object-oriented programming (OOP) is a style of programming characterized by the identification of classes of objects closely linked with the methods (functions) with which they are associated. It also includes ideas of inheritance of attributes and methods."
      ],
      "metadata": {
        "id": "Ep-2jBYMsFLx"
      }
    },
    {
      "cell_type": "markdown",
      "source": [
        "2. What is a class in OOP?\n",
        "   - A class is a way of organizing information about a type of data so a programmer can reuse elements when making multiple instances of that data type—for example, if a programmer wanted to make three instances of Car , maybe a BMW, a Ferrari, and a Ford instance.\n",
        "\n"
      ],
      "metadata": {
        "id": "h0FCrBX-tIWC"
      }
    },
    {
      "cell_type": "markdown",
      "source": [
        "3.  What is an object in OOP?\n",
        "  - An object is a component of a program that knows how to perform certain actions and how to interact with other elements of the program."
      ],
      "metadata": {
        "id": "Eo3meklrtvwV"
      }
    },
    {
      "cell_type": "markdown",
      "source": [
        "4.  What is the difference between abstraction and encapsulation?\n",
        "  - Abstraction and encapsulation are both programming techniques that help organize code and keep it structured. The main difference between the two is that abstraction focuses on what an object does, while encapsulation focuses on how an object's data is accessed and manipulated:\n",
        "\n"
      ],
      "metadata": {
        "id": "CfHAPpBXuoJi"
      }
    },
    {
      "cell_type": "markdown",
      "source": [
        "5. What are dunder methods in Python?\n",
        "  - Dunder methods, also known as magic methods or special methods, are methods in Python that have double underscores (or \"dunders\") at the beginning and end of their names, such as __init__ or __str__.\n",
        "\n"
      ],
      "metadata": {
        "id": "ivElhg7ju_od"
      }
    },
    {
      "cell_type": "markdown",
      "source": [
        "6. Explain the concept of inheritance in OOP?\n",
        "  - Inheritance is a fundamental concept in object-oriented programming (OOP) that allows a class to inherit properties and behaviors from another class. This enables code reuse, easy maintenance, and the creation of hierarchical class structures.\n",
        "\n"
      ],
      "metadata": {
        "id": "eRVK7DRzvVIS"
      }
    },
    {
      "cell_type": "markdown",
      "source": [
        "7.  What is polymorphism in OOP?\n",
        "  -Polymorphism is based on the idea that an entity in code, such as a variable, function, or object, can have more than one form. The word polymorphism comes from Greek and means \"having multiple forms\".\n",
        "\n"
      ],
      "metadata": {
        "id": "9Vxrz3H0v0Pi"
      }
    },
    {
      "cell_type": "markdown",
      "source": [
        "8. How is encapsulation achieved in Python?\n",
        "  - Encapsulation in Python is achieved through naming conventions and a concept called \"name mangling\":\n",
        "    * Public Members:\n",
        "By default, all members of a class in Python are public.\n",
        "They can be accessed from anywhere outside the class.\n",
        "    * Protected Members:\n",
        "Conventionally, members prefixed with a single underscore (_) are considered protected.\n",
        "This signifies that they should not be accessed from outside the class, but subclasses can access them.\n",
        "    * Private Members:\n",
        "Members prefixed with double underscores (__) are considered private.\n",
        "Python performs name mangling on these members, making them harder to access from outside the class.\n",
        "\n"
      ],
      "metadata": {
        "id": "HAfUrlxdwsym"
      }
    },
    {
      "cell_type": "markdown",
      "source": [
        "9. What is a constructor in Python?\n",
        "   - In Python, a constructor is a special method that is automatically called when an object of a class is created. It is used to initialize the attributes of the object.\n",
        "Key points:\n",
        "    * Method name: The constructor method is named __init__().\n",
        "    * Automatic call: It is called automatically when you create an object of the class.\n",
        "    * Purpose: It initializes the object's attributes, setting their initial values.\n",
        "    * self parameter: The first parameter of the __init__() method is always self, which refers to the instance of the class being created.\n"
      ],
      "metadata": {
        "id": "G9lP5uD3yRgn"
      }
    },
    {
      "cell_type": "markdown",
      "source": [
        "10. What are class and static methods in Python?\n",
        "   - A class method takes cls as the first parameter while a static method needs no specific parameters. A class method can access or modify the class state while a static method can't access or modify it. In general, static methods know nothing about the class state.\n",
        "\n"
      ],
      "metadata": {
        "id": "AgP0V2BizS2L"
      }
    },
    {
      "cell_type": "markdown",
      "source": [
        "11.  What is method overloading in Python?\n",
        "  - Method overloading in Python is the process of creating a method that can be called in different ways. This allows a single function to operate with different input types or parameters.\n"
      ],
      "metadata": {
        "id": "sd4e8a6YqcNg"
      }
    },
    {
      "cell_type": "markdown",
      "source": [
        "12. What is method overriding in OOP?\n",
        "  - Method overriding is a feature in object-oriented programming (OOP) that allows a subclass to replace the implementation of a method in its superclass:\n",
        "\n"
      ],
      "metadata": {
        "id": "hx3Ftkk1rBM9"
      }
    },
    {
      "cell_type": "markdown",
      "source": [
        "13. What is a property decorator in Python?\n",
        "   - The Python property decorator makes attributes in a class act like read-only properties. Essentially, it lets you access methods as if they were attributes, without needing to write parentheses.\n",
        "\n"
      ],
      "metadata": {
        "id": "mcjAdRCVrk66"
      }
    },
    {
      "cell_type": "markdown",
      "source": [
        "14. Why is polymorphism important in OOP?\n",
        "   - Polymorphism is a feature of object-oriented programming languages that allows a specific routine to use variables of different types at different times.\n",
        "\n",
        "\n"
      ],
      "metadata": {
        "id": "p7FKYNQVr-6x"
      }
    },
    {
      "cell_type": "markdown",
      "source": [
        "15. What is an abstract class in Python?\n",
        "  - An abstract class in Python is typically created to declare a set of methods that must be created in any child class built on top of this abstract class. Similarly, an abstract method is one that doesn't have any implementation.\n",
        "\n"
      ],
      "metadata": {
        "id": "RQS_s_jgsnoQ"
      }
    },
    {
      "cell_type": "markdown",
      "source": [
        "16. What are the advantages of OOP?\n",
        "   - Advantages of OOP\n",
        "     * Re-usability. It means reusing some facilities rather than building them again and again. ...\n",
        "     \n",
        "     * Data Redundancy. ...\n",
        "     * Code Maintenance. ...\n",
        "     * Security. ...\n",
        "     * Better productivity. ...\n",
        "     * Easy troubleshooting. ...\n",
        "     * Polymorphism Flexibility. ...\n",
        "     * Problems solving.\n"
      ],
      "metadata": {
        "id": "bBxVl1cHtTTt"
      }
    },
    {
      "cell_type": "markdown",
      "source": [
        "17. What is the difference between a class variable and an instance variable?\n",
        "  - The main difference between a class variable and an instance variable is that a class variable is shared by all instances of a class, while an instance variable is unique to each instance.\n",
        "\n",
        "\n"
      ],
      "metadata": {
        "id": "uPi2l1syux5a"
      }
    },
    {
      "cell_type": "markdown",
      "source": [
        "18 . What is multiple inheritance in Python?\n",
        "   - Multiple inheritance is a feature in Python that allows a class to inherit attributes and methods from more than one parent class. This is different from the default single inheritance in Python, where a class can only inherit from one parent class.\n",
        "\n"
      ],
      "metadata": {
        "id": "rxV3rqafvnSz"
      }
    },
    {
      "cell_type": "markdown",
      "source": [
        "19. Explain the purpose of ‘’__str__’ and ‘__repr__’ ‘ methods in Python?\n",
        "   - __str__ is used for informal string representations, such as printing objects for user consumption. __repr__ is used for formal string representations, including debugging, logging, and object inspection.\n",
        "\n"
      ],
      "metadata": {
        "id": "I23Defr6wKTX"
      }
    },
    {
      "cell_type": "markdown",
      "source": [
        "20. What is the significance of the ‘super()’ function in Python?\n",
        "   - The super() function in Python is a built-in function that allows access to methods and properties of a parent class from a child class. It's useful when working with inheritance in object-oriented programming.\n",
        "\n"
      ],
      "metadata": {
        "id": "hbRHHnwMxdkk"
      }
    },
    {
      "cell_type": "markdown",
      "source": [
        "21.  What is the significance of the __del__ method in Python?\n",
        "   - __del__ is a finalizer. It is called when an object is garbage collected which happens at some point after all references to the object have been deleted. In a simple case this could be right after you say del x or, if x is a local variable, after the function ends.\n",
        "\n"
      ],
      "metadata": {
        "id": "X6swR0yiyXn-"
      }
    },
    {
      "cell_type": "markdown",
      "source": [
        "22. What is the difference between @staticmethod and @classmethod in Python?\n",
        "   -  In Python, the main difference between @classmethod and @staticmethod is that @classmethod binds the class to the method as the first argument, while @staticmethod does not.\n",
        "\n"
      ],
      "metadata": {
        "id": "46GYQj5bzEFh"
      }
    },
    {
      "cell_type": "markdown",
      "source": [
        "23. How does polymorphism work in Python with inheritance?\n",
        "  - In Python, polymorphism with inheritance allows child classes to have the same method names as their parent classes, but with different implementations. This is achieved through method overriding, which is when a child class redefines a method from its parent class.\n",
        "\n",
        "\n"
      ],
      "metadata": {
        "id": "4gBNp4yC0xg-"
      }
    },
    {
      "cell_type": "markdown",
      "source": [
        "24. What is method chaining in Python OOP?\n",
        "   - Method chaining is a technique in Python that allows multiple method calls to be chained together in a single line of code. It's a useful tool for working with objects that require multiple operations.\n",
        "\n"
      ],
      "metadata": {
        "id": "xM57x71X5IPb"
      }
    },
    {
      "cell_type": "markdown",
      "source": [
        "25. What is the purpose of the __call__ method in Python?\n",
        "   - __call__() is to turn your instances into callable objects. In other words, its purpose is to create objects that you can call as you would call a regular function. Most Python classes don't implement this method. Your custom classes will have it only if you need to use your instances as functions.\n"
      ],
      "metadata": {
        "id": "VNNHCHaG6RfC"
      }
    },
    {
      "cell_type": "code",
      "source": [
        "# 1. Create a parent class Animal with a method speak() that prints a generic message. Create a child class Dog overrides that the speak() method to print \"Bark!\".\n",
        " # Parent class\n",
        "class Animal:\n",
        "    def speak(self):\n",
        "        print(\"Animal speaks\")\n",
        "\n",
        "# Child class\n",
        "class Dog(Animal):\n",
        "    def speak(self):\n",
        "        print(\"Bark!\")\n",
        "\n",
        "# Creating an instance of Dog and calling the speak method\n",
        "dog = Dog()\n",
        "dog.speak()  # This will print \"Bark!\"\n"
      ],
      "metadata": {
        "colab": {
          "base_uri": "https://localhost:8080/"
        },
        "id": "7_RPfkT__Vr1",
        "outputId": "7fbf5791-0a78-4f03-ae3c-d88e17dae4b1"
      },
      "execution_count": 2,
      "outputs": [
        {
          "output_type": "stream",
          "name": "stdout",
          "text": [
            "Bark!\n"
          ]
        }
      ]
    },
    {
      "cell_type": "code",
      "source": [
        "# 2.Write a program to create an abstract class Shape with a method area(). Derive classes Circle and Rectangle from it and implement the area() method in both."
      ],
      "metadata": {
        "id": "vjpNFZ0LBFzf"
      },
      "execution_count": null,
      "outputs": []
    },
    {
      "cell_type": "code",
      "source": [
        "from abc import ABC, abstractmethod\n",
        "import math\n",
        "\n",
        "# Abstract class Shape\n",
        "class Shape(ABC):\n",
        "\n",
        "    @abstractmethod\n",
        "    def area(self):\n",
        "        pass\n",
        "\n",
        "# Circle class derived from Shape\n",
        "class Circle(Shape):\n",
        "\n",
        "    def __init__(self, radius):\n",
        "        self.radius = radius\n",
        "\n",
        "    def area(self):\n",
        "        return math.pi * (self.radius ** 2)\n",
        "\n",
        "# Rectangle class derived from Shape\n",
        "class Rectangle(Shape):\n",
        "\n",
        "    def __init__(self, width, height):\n",
        "        self.width = width\n",
        "        self.height = height\n",
        "\n",
        "    def area(self):\n",
        "        return self.width * self.height\n",
        "\n",
        "# Example usage\n",
        "circle = Circle(5)\n",
        "rectangle = Rectangle(4, 6)\n",
        "\n",
        "print(f\"Area of Circle: {circle.area()}\")\n",
        "print(f\"Area of Rectangle: {rectangle.area()}\")\n"
      ],
      "metadata": {
        "colab": {
          "base_uri": "https://localhost:8080/"
        },
        "id": "NCzWo5llB4QJ",
        "outputId": "56031229-6106-4cd9-ba15-6f18e3d8b213"
      },
      "execution_count": 3,
      "outputs": [
        {
          "output_type": "stream",
          "name": "stdout",
          "text": [
            "Area of Circle: 78.53981633974483\n",
            "Area of Rectangle: 24\n"
          ]
        }
      ]
    },
    {
      "cell_type": "code",
      "source": [
        "# 3. Implement a multi-level inheritance scenario where a class Vehicle has an attribute type. Derive a class Car and further derive a class ElectricCar that adds a battery attribute"
      ],
      "metadata": {
        "id": "4V1Q_qeuB-sI"
      },
      "execution_count": null,
      "outputs": []
    },
    {
      "cell_type": "code",
      "source": [
        "# Base class Vehicle\n",
        "class Vehicle:\n",
        "\n",
        "    def __init__(self, vehicle_type):\n",
        "        self.vehicle_type = vehicle_type\n",
        "\n",
        "    def display_type(self):\n",
        "        print(f\"Vehicle type: {self.vehicle_type}\")\n",
        "\n",
        "# Derived class Car from Vehicle\n",
        "class Car(Vehicle):\n",
        "\n",
        "    def __init__(self, vehicle_type, make, model):\n",
        "        # Call the constructor of Vehicle class\n",
        "        super().__init__(vehicle_type)\n",
        "        self.make = make\n",
        "        self.model = model\n",
        "\n",
        "    def display_car_info(self):\n",
        "        print(f\"Car make: {self.make}\")\n",
        "        print(f\"Car model: {self.model}\")\n",
        "\n",
        "# Further derived class ElectricCar from Car\n",
        "class ElectricCar(Car):\n",
        "\n",
        "    def __init__(self, vehicle_type, make, model, battery_capacity):\n",
        "        # Call the constructor of Car class, which also calls Vehicle class constructor\n",
        "        super().__init__(vehicle_type, make, model)\n",
        "        self.battery_capacity = battery_capacity\n",
        "\n",
        "    def display_battery_info(self):\n",
        "        print(f\"Electric car battery capacity: {self.battery_capacity} kWh\")\n",
        "\n",
        "# Example usage\n",
        "electric_car = ElectricCar(\"Electric\", \"Tesla\", \"Model S\", 100)\n",
        "\n",
        "# Displaying information\n",
        "electric_car.display_type()\n",
        "electric_car.display_car_info()\n",
        "electric_car.display_battery_info()\n"
      ],
      "metadata": {
        "colab": {
          "base_uri": "https://localhost:8080/"
        },
        "id": "jRfV7z7dCM6X",
        "outputId": "68c00180-72f9-4bca-b633-2d1f26150e6a"
      },
      "execution_count": 4,
      "outputs": [
        {
          "output_type": "stream",
          "name": "stdout",
          "text": [
            "Vehicle type: Electric\n",
            "Car make: Tesla\n",
            "Car model: Model S\n",
            "Electric car battery capacity: 100 kWh\n"
          ]
        }
      ]
    },
    {
      "cell_type": "code",
      "source": [
        "# 4. Implement a multi-level inheritance scenario where a class Vehicle has an attribute type. Derive a class Car and further derive a class ElectricCar that adds a battery attribute."
      ],
      "metadata": {
        "id": "aFK-yrW3C3Ub"
      },
      "execution_count": null,
      "outputs": []
    },
    {
      "cell_type": "code",
      "source": [
        "# Base class Vehicle\n",
        "class Vehicle:\n",
        "    def __init__(self, vehicle_type):\n",
        "        self.vehicle_type = vehicle_type  # Attribute for vehicle type\n",
        "\n",
        "    def display_type(self):\n",
        "        print(f\"Vehicle type: {self.vehicle_type}\")\n",
        "\n",
        "# Derived class Car from Vehicle\n",
        "class Car(Vehicle):\n",
        "    def __init__(self, vehicle_type, make, model):\n",
        "        # Initialize the parent class with vehicle_type\n",
        "        super().__init__(vehicle_type)\n",
        "        self.make = make  # Car make\n",
        "        self.model = model  # Car model\n",
        "\n",
        "    def display_car_info(self):\n",
        "        print(f\"Car make: {self.make}\")\n",
        "        print(f\"Car model: {self.model}\")\n",
        "\n",
        "# Further derived class ElectricCar from Car\n",
        "class ElectricCar(Car):\n",
        "    def __init__(self, vehicle_type, make, model, battery_capacity):\n",
        "        # Initialize the parent class with vehicle_type, make, and model\n",
        "        super().__init__(vehicle_type, make, model)\n",
        "        self.battery_capacity = battery_capacity  # Electric car's battery capacity\n",
        "\n",
        "    def display_battery_info(self):\n",
        "        print(f\"Battery capacity: {self.battery_capacity} kWh\")\n",
        "\n",
        "# Example usage:\n",
        "electric_car = ElectricCar(\"Electric\", \"Tesla\", \"Model S\", 100)\n",
        "\n",
        "# Displaying information\n",
        "electric_car.display_type()            # Vehicle type: Electric\n",
        "electric_car.display_car_info()        # Car make: Tesla, Car model: Model S\n",
        "electric_car.display_battery_info()    # Battery capacity: 100 kWh\n"
      ],
      "metadata": {
        "colab": {
          "base_uri": "https://localhost:8080/"
        },
        "id": "3rI7jldIDhoy",
        "outputId": "f503ac48-822a-4ea9-f6b9-bc51628d0e4b"
      },
      "execution_count": 6,
      "outputs": [
        {
          "output_type": "stream",
          "name": "stdout",
          "text": [
            "Vehicle type: Electric\n",
            "Car make: Tesla\n",
            "Car model: Model S\n",
            "Battery capacity: 100 kWh\n"
          ]
        }
      ]
    },
    {
      "cell_type": "code",
      "source": [
        "# 5. Write a program to demonstrate encapsulation by creating a class BankAccount with private attributes balance and methods to deposit, withdraw, and check balance"
      ],
      "metadata": {
        "id": "rw0B42xED2tl"
      },
      "execution_count": null,
      "outputs": []
    },
    {
      "cell_type": "code",
      "source": [
        "class BankAccount:\n",
        "    def __init__(self, initial_balance=0):\n",
        "        # Private attribute\n",
        "        self.__balance = initial_balance\n",
        "\n",
        "    # Method to deposit money into the account\n",
        "    def deposit(self, amount):\n",
        "        if amount > 0:\n",
        "            self.__balance += amount\n",
        "            print(f\"Deposited: ${amount}\")\n",
        "        else:\n",
        "            print(\"Deposit amount must be greater than 0.\")\n",
        "\n",
        "    # Method to withdraw money from the account\n",
        "    def withdraw(self, amount):\n",
        "        if amount > 0 and amount <= self.__balance:\n",
        "            self.__balance -= amount\n",
        "            print(f\"Withdrew: ${amount}\")\n",
        "        elif amount > self.__balance:\n",
        "            print(\"Insufficient funds!\")\n",
        "        else:\n",
        "            print(\"Withdrawal amount must be greater than 0.\")\n",
        "\n",
        "    # Method to check the account balance\n",
        "    def check_balance(self):\n",
        "        print(f\"Current Balance: ${self.__balance}\")\n",
        "\n",
        "# Example usage\n",
        "account = BankAccount(1000)  # Create a bank account with an initial balance of $1000\n",
        "\n",
        "# Checking initial balance\n",
        "account.check_balance()\n",
        "\n",
        "# Depositing money\n",
        "account.deposit(500)\n",
        "\n",
        "# Withdrawing money\n",
        "account.withdraw(200)\n",
        "\n",
        "# Checking the balance again\n",
        "account.check_balance()\n",
        "\n",
        "# Trying to withdraw more than available balance\n",
        "account.withdraw(1500)\n"
      ],
      "metadata": {
        "colab": {
          "base_uri": "https://localhost:8080/"
        },
        "id": "jX53dDHFEXBr",
        "outputId": "8c184526-216d-454b-9b46-f11a7dbb7ee7"
      },
      "execution_count": 8,
      "outputs": [
        {
          "output_type": "stream",
          "name": "stdout",
          "text": [
            "Current Balance: $1000\n",
            "Deposited: $500\n",
            "Withdrew: $200\n",
            "Current Balance: $1300\n",
            "Insufficient funds!\n"
          ]
        }
      ]
    },
    {
      "cell_type": "code",
      "source": [
        "# 6. Demonstrate runtime polymorphism using a method play() in a base class Instrument. Derive classes Guitar and Piano that implement their own version of play()."
      ],
      "metadata": {
        "id": "Gl4-MuhCEbUX"
      },
      "execution_count": null,
      "outputs": []
    },
    {
      "cell_type": "code",
      "source": [
        "# Base class Instrument\n",
        "class Instrument:\n",
        "    def play(self):\n",
        "        print(\"Playing an instrument\")\n",
        "\n",
        "# Derived class Guitar from Instrument\n",
        "class Guitar(Instrument):\n",
        "    def play(self):\n",
        "        print(\"Strumming the guitar\")\n",
        "\n",
        "# Derived class Piano from Instrument\n",
        "class Piano(Instrument):\n",
        "    def play(self):\n",
        "        print(\"Playing the piano\")\n",
        "\n",
        "# Function to demonstrate runtime polymorphism\n",
        "def play_instrument(instrument):\n",
        "    instrument.play()  # Polymorphic call\n",
        "\n",
        "# Example usage:\n",
        "guitar = Guitar()\n",
        "piano = Piano()\n",
        "\n",
        "# Demonstrating polymorphism\n",
        "play_instrument(guitar)  # Outputs: Strumming the guitar\n",
        "play_instrument(piano)   # Outputs: Playing the piano\n"
      ],
      "metadata": {
        "colab": {
          "base_uri": "https://localhost:8080/"
        },
        "id": "EuvWnAPWEtY6",
        "outputId": "f4c74cab-679e-4490-db3c-66ecadfa91de"
      },
      "execution_count": 9,
      "outputs": [
        {
          "output_type": "stream",
          "name": "stdout",
          "text": [
            "Strumming the guitar\n",
            "Playing the piano\n"
          ]
        }
      ]
    },
    {
      "cell_type": "code",
      "source": [
        "# 7. Create a class MathOperations with a class method add_numbers() to add two numbers and a static method subtract_numbers() to subtract two numbers."
      ],
      "metadata": {
        "id": "g00E2OJkE24V"
      },
      "execution_count": null,
      "outputs": []
    },
    {
      "cell_type": "code",
      "source": [
        "class MathOperations:\n",
        "\n",
        "    @classmethod\n",
        "    def add_numbers(cls, num1, num2):\n",
        "        return num1 + num2  # Class method to add two numbers\n",
        "\n",
        "    @staticmethod\n",
        "    def subtract_numbers(num1, num2):\n",
        "        return num1 - num2  # Static method to subtract two numbers\n",
        "\n",
        "# Example usage:\n",
        "result_addition = MathOperations.add_numbers(10, 5)\n",
        "result_subtraction = MathOperations.subtract_numbers(10, 5)\n",
        "\n",
        "print(f\"Addition Result: {result_addition}\")  # Output: 15\n",
        "print(f\"Subtraction Result: {result_subtraction}\")  # Output: 5\n"
      ],
      "metadata": {
        "colab": {
          "base_uri": "https://localhost:8080/"
        },
        "id": "UsHXhd4HFGlO",
        "outputId": "0b9f846b-61a7-4f2e-e08a-df05dc61e66f"
      },
      "execution_count": 10,
      "outputs": [
        {
          "output_type": "stream",
          "name": "stdout",
          "text": [
            "Addition Result: 15\n",
            "Subtraction Result: 5\n"
          ]
        }
      ]
    },
    {
      "cell_type": "code",
      "source": [
        "# 8. Implement a class Person with a class method to count the total number of persons created."
      ],
      "metadata": {
        "id": "GwneHtS8FXJ-"
      },
      "execution_count": null,
      "outputs": []
    },
    {
      "cell_type": "code",
      "source": [
        "class Person:\n",
        "    # Class variable to keep track of the total number of persons\n",
        "    total_persons = 0\n",
        "\n",
        "    def __init__(self, name, age):\n",
        "        self.name = name\n",
        "        self.age = age\n",
        "        # Increment the total number of persons each time a new Person is created\n",
        "        Person.total_persons += 1\n",
        "\n",
        "    @classmethod\n",
        "    def count_persons(cls):\n",
        "        return cls.total_persons  # Return the total number of persons created\n",
        "\n",
        "# Example usage:\n",
        "person1 = Person(\"Alice\", 30)\n",
        "person2 = Person(\"Bob\", 25)\n",
        "person3 = Person(\"Charlie\", 35)\n",
        "\n",
        "# Calling the class method to count the total persons created\n",
        "print(f\"Total persons created: {Person.count_persons()}\")  # Output: 3\n"
      ],
      "metadata": {
        "colab": {
          "base_uri": "https://localhost:8080/"
        },
        "id": "AOXtSJ3VFf0S",
        "outputId": "300193d8-b3c4-4256-a415-c95a64cda297"
      },
      "execution_count": 11,
      "outputs": [
        {
          "output_type": "stream",
          "name": "stdout",
          "text": [
            "Total persons created: 3\n"
          ]
        }
      ]
    },
    {
      "cell_type": "code",
      "source": [
        "# 9. Write a class Fraction with attributes numerator and denominator. Override the str method to display the fraction as \"numerator/denominator\""
      ],
      "metadata": {
        "id": "XsLKdS5bF7hD"
      },
      "execution_count": null,
      "outputs": []
    },
    {
      "cell_type": "code",
      "source": [
        "class Fraction:\n",
        "    def __init__(self, numerator, denominator):\n",
        "        # Initialize the numerator and denominator attributes\n",
        "        self.numerator = numerator\n",
        "        self.denominator = denominator\n",
        "\n",
        "    def __str__(self):\n",
        "        # Return the fraction as a string in the format \"numerator/denominator\"\n",
        "        return f\"{self.numerator}/{self.denominator}\"\n",
        "\n",
        "# Example usage:\n",
        "fraction1 = Fraction(3, 4)\n",
        "fraction2 = Fraction(5, 6)\n",
        "\n",
        "print(fraction1)  # Output: 3/4\n",
        "print(fraction2)  # Output: 5/6\n"
      ],
      "metadata": {
        "colab": {
          "base_uri": "https://localhost:8080/"
        },
        "id": "ImpBvPuVGCqE",
        "outputId": "69f0f9ea-a900-47a4-d732-a54fca4707c4"
      },
      "execution_count": 12,
      "outputs": [
        {
          "output_type": "stream",
          "name": "stdout",
          "text": [
            "3/4\n",
            "5/6\n"
          ]
        }
      ]
    },
    {
      "cell_type": "code",
      "source": [
        "# 10. Demonstrate operator overloading by creating a class Vector and overriding the add method to add two vectors"
      ],
      "metadata": {
        "id": "hk1x9ZItGIe-"
      },
      "execution_count": null,
      "outputs": []
    },
    {
      "cell_type": "code",
      "source": [
        "class Vector:\n",
        "    def __init__(self, x, y):\n",
        "        self.x = x  # x component of the vector\n",
        "        self.y = y  # y component of the vector\n",
        "\n",
        "    # Overloading the + operator to add two vectors\n",
        "    def __add__(self, other):\n",
        "        # Adding corresponding components of the two vectors\n",
        "        return Vector(self.x + other.x, self.y + other.y)\n",
        "\n",
        "    # String representation to print the vector in the form (x, y)\n",
        "    def __str__(self):\n",
        "        return f\"({self.x}, {self.y})\"\n",
        "\n",
        "# Example usage:\n",
        "vector1 = Vector(1, 2)\n",
        "vector2 = Vector(3, 4)\n",
        "\n",
        "# Adding two vectors using overloaded + operator\n",
        "result_vector = vector1 + vector2\n",
        "\n",
        "# Printing the result of the addition\n",
        "print(f\"Result of vector addition: {result_vector}\")  # Output: (4, 6)\n"
      ],
      "metadata": {
        "colab": {
          "base_uri": "https://localhost:8080/"
        },
        "id": "HnOEciHMGhCv",
        "outputId": "166bb449-9f51-4203-ebf7-404bb11d5815"
      },
      "execution_count": 13,
      "outputs": [
        {
          "output_type": "stream",
          "name": "stdout",
          "text": [
            "Result of vector addition: (4, 6)\n"
          ]
        }
      ]
    },
    {
      "cell_type": "code",
      "source": [
        "# 11. Create a class Person with attributes name and age. Add a method greet() that prints \"Hello, my name is {name} and I am {age} years old.\""
      ],
      "metadata": {
        "id": "6QOyaYcmGqDC"
      },
      "execution_count": 14,
      "outputs": []
    },
    {
      "cell_type": "code",
      "source": [
        "class Person:\n",
        "    def __init__(self, name, age):\n",
        "        # Initialize the name and age attributes\n",
        "        self.name = name\n",
        "        self.age = age\n",
        "\n",
        "    def greet(self):\n",
        "        # Method to print a greeting message\n",
        "        print(f\"Hello, my name is {self.name} and I am {self.age} years old.\")\n",
        "\n",
        "# Example usage:\n",
        "person1 = Person(\"Alice\", 30)\n",
        "person2 = Person(\"Bob\", 25)\n",
        "\n",
        "# Calling the greet method\n",
        "person1.greet()  # Output: Hello, my name is Alice and I am 30 years old.\n",
        "person2.greet()  # Output: Hello, my name is Bob and I am 25 years old.\n"
      ],
      "metadata": {
        "colab": {
          "base_uri": "https://localhost:8080/"
        },
        "id": "pu1g7X9dGz9g",
        "outputId": "1d2c703a-0bf1-4217-9524-a968568fc30d"
      },
      "execution_count": 15,
      "outputs": [
        {
          "output_type": "stream",
          "name": "stdout",
          "text": [
            "Hello, my name is Alice and I am 30 years old.\n",
            "Hello, my name is Bob and I am 25 years old.\n"
          ]
        }
      ]
    },
    {
      "cell_type": "code",
      "source": [
        "# 12. Implement a class Student with attributes name and grades. Create a method average_grade() to compute the average of the grades."
      ],
      "metadata": {
        "id": "Css6rAIPG8pQ"
      },
      "execution_count": null,
      "outputs": []
    },
    {
      "cell_type": "code",
      "source": [
        "class Student:\n",
        "    def __init__(self, name, grades):\n",
        "        # Initialize the name and grades attributes\n",
        "        self.name = name\n",
        "        self.grades = grades\n",
        "\n",
        "    def average_grade(self):\n",
        "        # Calculate and return the average of the grades\n",
        "        if len(self.grades) == 0:\n",
        "            return 0  # Prevent division by zero if no grades are provided\n",
        "        return sum(self.grades) / len(self.grades)\n",
        "\n",
        "# Example usage:\n",
        "student1 = Student(\"Alice\", [85, 90, 78, 92, 88])\n",
        "student2 = Student(\"Bob\", [78, 82, 80, 85])\n",
        "\n",
        "# Calculating and printing the average grades\n",
        "print(f\"{student1.name}'s average grade: {student1.average_grade()}\")  # Output: 86.6\n",
        "print(f\"{student2.name}'s average grade: {student2.average_grade()}\")\n"
      ],
      "metadata": {
        "colab": {
          "base_uri": "https://localhost:8080/"
        },
        "id": "HI9nBCZbHjH6",
        "outputId": "b9d38ab3-f8ec-4ff3-c699-cfe1a5bbcd7d"
      },
      "execution_count": 17,
      "outputs": [
        {
          "output_type": "stream",
          "name": "stdout",
          "text": [
            "Alice's average grade: 86.6\n",
            "Bob's average grade: 81.25\n"
          ]
        }
      ]
    },
    {
      "cell_type": "code",
      "source": [
        "# 13. Create a class Rectangle with methods set_dimensions() to set the dimensions and area() to calculate the area."
      ],
      "metadata": {
        "id": "YVUBc79iH-FK"
      },
      "execution_count": null,
      "outputs": []
    },
    {
      "cell_type": "code",
      "source": [
        "class Rectangle:\n",
        "    def __init__(self):\n",
        "        # Initialize length and width with default values\n",
        "        self.length = 0\n",
        "        self.width = 0\n",
        "\n",
        "    def set_dimensions(self, length, width):\n",
        "        # Set the dimensions of the rectangle\n",
        "        self.length = length\n",
        "        self.width = width\n",
        "\n",
        "    def area(self):\n",
        "        # Calculate and return the area of the rectangle\n",
        "        return self.length * self.width\n",
        "\n",
        "# Example usage:\n",
        "rectangle = Rectangle()\n",
        "rectangle.set_dimensions(5, 3)  # Set length = 5, width = 3\n",
        "\n",
        "# Calculate and print the area\n",
        "print(f\"Area of the rectangle: {rectangle.area()}\")  # Output: 15\n"
      ],
      "metadata": {
        "colab": {
          "base_uri": "https://localhost:8080/"
        },
        "id": "mIdh46dLISmq",
        "outputId": "0af99ddf-21ec-48c9-9ea4-50d171cfe65a"
      },
      "execution_count": 18,
      "outputs": [
        {
          "output_type": "stream",
          "name": "stdout",
          "text": [
            "Area of the rectangle: 15\n"
          ]
        }
      ]
    },
    {
      "cell_type": "code",
      "source": [
        "# 14. Create a class Employee with a method calculate_salary() that computes the salary based on hours worked and hourly rate. Create a derived class Manager that adds a bonus to the salary"
      ],
      "metadata": {
        "id": "TlR1QLIzIcpv"
      },
      "execution_count": null,
      "outputs": []
    },
    {
      "cell_type": "code",
      "source": [
        "class Employee:\n",
        "    def __init__(self, name, hours_worked, hourly_rate):\n",
        "        self.name = name\n",
        "        self.hours_worked = hours_worked\n",
        "        self.hourly_rate = hourly_rate\n",
        "\n",
        "    def calculate_salary(self):\n",
        "        # Calculate salary based on hours worked and hourly rate\n",
        "        return self.hours_worked * self.hourly_rate\n",
        "\n",
        "class Manager(Employee):\n",
        "    def __init__(self, name, hours_worked, hourly_rate, bonus):\n",
        "        # Initialize the base class (Employee)\n",
        "        super().__init__(name, hours_worked, hourly_rate)\n",
        "        self.bonus = bonus\n",
        "\n",
        "    def calculate_salary(self):\n",
        "        # Calculate the salary including the bonus for the manager\n",
        "        base_salary = super().calculate_salary()\n",
        "        return base_salary + self.bonus\n",
        "\n",
        "# Example usage:\n",
        "employee = Employee(\"Alice\", 40, 25)  # 40 hours worked, $25 per hour\n",
        "manager = Manager(\"Bob\", 40, 30, 1000)  # 40 hours worked, $30 per hour, $1000 bonus\n",
        "\n",
        "# Print the calculated salaries\n",
        "print(f\"Employee's salary: ${employee.calculate_salary()}\")  # Output: $1000\n",
        "print(f\"Manager's salary: ${manager.calculate_salary()}\")    # Output: $2200\n"
      ],
      "metadata": {
        "colab": {
          "base_uri": "https://localhost:8080/"
        },
        "id": "TnaMV1XLIpr-",
        "outputId": "4e219b1c-7cb9-444c-dcba-a8ac1796e7e8"
      },
      "execution_count": 19,
      "outputs": [
        {
          "output_type": "stream",
          "name": "stdout",
          "text": [
            "Employee's salary: $1000\n",
            "Manager's salary: $2200\n"
          ]
        }
      ]
    },
    {
      "cell_type": "code",
      "source": [
        "# 15. Create a class Product with attributes name, price, and quantity. Implement a method total_price() that calculates the total price of the product."
      ],
      "metadata": {
        "id": "VXjfEIx4I6wm"
      },
      "execution_count": null,
      "outputs": []
    },
    {
      "cell_type": "code",
      "source": [
        "class Product:\n",
        "    def __init__(self, name, price, quantity):\n",
        "        # Initialize the attributes: name, price, and quantity\n",
        "        self.name = name\n",
        "        self.price = price\n",
        "        self.quantity = quantity\n",
        "\n",
        "    def total_price(self):\n",
        "        # Calculate the total price of the product (price * quantity)\n",
        "        return self.price * self.quantity\n",
        "\n",
        "# Example usage:\n",
        "product1 = Product(\"Laptop\", 1000, 3)  # Name: Laptop, Price: 1000, Quantity: 3\n",
        "product2 = Product(\"Headphones\", 150, 5)  # Name: Headphones, Price: 150, Quantity: 5\n",
        "\n",
        "# Print the total price of the products\n",
        "print(f\"Total price of {product1.name}: ${product1.total_price()}\")  # Output: 3000\n",
        "print(f\"Total price of {product2.name}: ${product2.total_price()}\")  # Output: 750\n"
      ],
      "metadata": {
        "colab": {
          "base_uri": "https://localhost:8080/"
        },
        "id": "d3lWS3lxLWIz",
        "outputId": "a6ab7238-e797-4b30-8138-f51416bf14bf"
      },
      "execution_count": 20,
      "outputs": [
        {
          "output_type": "stream",
          "name": "stdout",
          "text": [
            "Total price of Laptop: $3000\n",
            "Total price of Headphones: $750\n"
          ]
        }
      ]
    },
    {
      "cell_type": "code",
      "source": [
        "# 16. Create a class Animal with an abstract method sound(). Create two derived classes Cow and Sheep that implement the sound() method."
      ],
      "metadata": {
        "id": "QwREYawELkRV"
      },
      "execution_count": null,
      "outputs": []
    },
    {
      "cell_type": "code",
      "source": [
        "from abc import ABC, abstractmethod\n",
        "\n",
        "# Abstract base class Animal\n",
        "class Animal(ABC):\n",
        "\n",
        "    @abstractmethod\n",
        "    def sound(self):\n",
        "        pass  # This is an abstract method, to be implemented by subclasses\n",
        "\n",
        "# Derived class Cow\n",
        "class Cow(Animal):\n",
        "    def sound(self):\n",
        "        return \"Moo\"  # Cow's sound\n",
        "\n",
        "# Derived class Sheep\n",
        "class Sheep(Animal):\n",
        "    def sound(self):\n",
        "        return \"Baa\"  # Sheep's sound\n",
        "\n",
        "# Example usage:\n",
        "cow = Cow()\n",
        "sheep = Sheep()\n",
        "\n",
        "print(f\"Cow sound: {cow.sound()}\")  # Output: Moo\n",
        "print(f\"Sheep sound: {sheep.sound()}\")  # Output: Baa\n"
      ],
      "metadata": {
        "colab": {
          "base_uri": "https://localhost:8080/"
        },
        "id": "4eIvm9TyLvhu",
        "outputId": "991d01ff-6d5c-49b4-ef79-a22d9150c16d"
      },
      "execution_count": 21,
      "outputs": [
        {
          "output_type": "stream",
          "name": "stdout",
          "text": [
            "Cow sound: Moo\n",
            "Sheep sound: Baa\n"
          ]
        }
      ]
    },
    {
      "cell_type": "code",
      "source": [
        "# 17. Create a class Book with attributes title, author, and year_published. Add a method get_book_info() that returns a formatted string with the book's details."
      ],
      "metadata": {
        "id": "c94-uGJMLzHc"
      },
      "execution_count": null,
      "outputs": []
    },
    {
      "cell_type": "code",
      "source": [
        "class Book:\n",
        "    def __init__(self, title, author, year_published):\n",
        "        # Initialize the attributes: title, author, and year_published\n",
        "        self.title = title\n",
        "        self.author = author\n",
        "        self.year_published = year_published\n",
        "\n",
        "    def get_book_info(self):\n",
        "        # Return a formatted string with the book's details\n",
        "        return f\"Title: {self.title}\\nAuthor: {self.author}\\nYear Published: {self.year_published}\"\n",
        "\n",
        "# Example usage:\n",
        "book1 = Book(\"To Kill a Mockingbird\", \"Harper Lee\", 1960)\n",
        "book2 = Book(\"1984\", \"George Orwell\", 1949)\n",
        "\n",
        "# Get and print the book details\n",
        "print(book1.get_book_info())\n",
        "print()\n",
        "print(book2.get_book_info())\n"
      ],
      "metadata": {
        "colab": {
          "base_uri": "https://localhost:8080/"
        },
        "id": "UAaja71xMRjm",
        "outputId": "62627440-bf59-40c6-c3cc-88d1c427c001"
      },
      "execution_count": 22,
      "outputs": [
        {
          "output_type": "stream",
          "name": "stdout",
          "text": [
            "Title: To Kill a Mockingbird\n",
            "Author: Harper Lee\n",
            "Year Published: 1960\n",
            "\n",
            "Title: 1984\n",
            "Author: George Orwell\n",
            "Year Published: 1949\n"
          ]
        }
      ]
    },
    {
      "cell_type": "code",
      "source": [
        "# 18. Create a class House with attributes address and price. Create a derived class Mansion that adds an attribute number_of_rooms"
      ],
      "metadata": {
        "id": "C148lcxbMVWp"
      },
      "execution_count": null,
      "outputs": []
    },
    {
      "cell_type": "code",
      "source": [
        "# Base class House\n",
        "class House:\n",
        "    def __init__(self, address, price):\n",
        "        self.address = address  # House address\n",
        "        self.price = price      # House price\n",
        "\n",
        "    def display_info(self):\n",
        "        print(f\"Address: {self.address}\")\n",
        "        print(f\"Price: ${self.price}\")\n",
        "\n",
        "# Derived class Mansion from House\n",
        "class Mansion(House):\n",
        "    def __init__(self, address, price, number_of_rooms):\n",
        "        # Initialize the parent class with address and price\n",
        "        super().__init__(address, price)\n",
        "        self.number_of_rooms = number_of_rooms  # Mansion's number of rooms\n",
        "\n",
        "    def display_mansion_info(self):\n",
        "        print(f\"Number of rooms: {self.number_of_rooms}\")\n",
        "\n",
        "# Example usage:\n",
        "mansion = Mansion(\"123 Luxury St\", 5000000, 10)\n",
        "\n",
        "# Displaying information\n",
        "mansion.display_info()           # Address and Price\n",
        "mansion.display_mansion_info()\n"
      ],
      "metadata": {
        "colab": {
          "base_uri": "https://localhost:8080/"
        },
        "id": "H18AiOsPMjLQ",
        "outputId": "dc115131-17d6-4da0-e497-7944b7580114"
      },
      "execution_count": 23,
      "outputs": [
        {
          "output_type": "stream",
          "name": "stdout",
          "text": [
            "Address: 123 Luxury St\n",
            "Price: $5000000\n",
            "Number of rooms: 10\n"
          ]
        }
      ]
    }
  ]
}